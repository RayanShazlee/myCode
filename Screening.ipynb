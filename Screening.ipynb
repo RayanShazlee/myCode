{
 "cells": [
  {
   "cell_type": "markdown",
   "id": "362a4be4",
   "metadata": {},
   "source": [
    "1. Create a function in python to read the text file and replace the specific content of the file ."
   ]
  },
  {
   "cell_type": "code",
   "execution_count": null,
   "id": "d755a714",
   "metadata": {},
   "outputs": [],
   "source": [
    "import fileinput\n",
    "import os\n",
    "\n",
    "MyDir = input (\"Source directory: \") # source dir where orignal textfile is\n",
    "os.chdir(Dir)\n",
    "\n",
    "Filelist = os.listdir()\n",
    "print('File list: ',Filelist)\n",
    "\n",
    "FileName = input (\"Insert file name: \") #file name which i have to edit\n",
    "\n",
    "SrchTxt = input (\"Text which we have to be replaced: \")   #text which we have to replace \n",
    "\n",
    "NewTxt = input (\"New text: \")    #text which has to be replaced with\n",
    "\n",
    "with fileinput.FileInput(FileName, inplace=True, backup='.bak') as file:\n",
    "    for line in file:\n",
    "        print(line.replace(SrchTxt, NewTxt), end='')\n",
    "print(\"file succesfully replaced\")\n",
    "file.close ()"
   ]
  },
  {
   "cell_type": "markdown",
   "id": "3e0d4336",
   "metadata": {},
   "source": [
    "enter text that will replace:\n",
    "\n",
    "Text successfully replaced\n",
    "\n",
    "\n",
    "1. Demonstrate use of abstract class, multiple inheritance and decorator in python using examples.\n",
    "\n",
    "Abstract class : An abstract class can be considered as a blueprint for other classes.\n",
    "                 It allows you to create a set of methods that must be created within \n",
    "                 any child classes built from the abstract class. A class which contains \n",
    "                 one or more abstract methods is called an abstract class. An abstract\n",
    "                 method is a method that has a declaration but does not have an implementation.\n",
    "                 While we are designing large functional units we use an abstract class.\n",
    "                 When we want to provide a common interface for different implementations of a component,\n",
    "                 we use an abstract class."
   ]
  },
  {
   "cell_type": "code",
   "execution_count": 14,
   "id": "e83ec9db",
   "metadata": {},
   "outputs": [
    {
     "name": "stdout",
     "output_type": "stream",
     "text": [
      "Lemborgini\n",
      "Green\n",
      "The price of Lemborgini is 50 lakh\n",
      "Swift Dezire\n",
      "Blue\n",
      "The price of Swift Dezire is 8 lakh\n",
      "Ferrari\n",
      "Red\n",
      "The price of ferrari is 80 lakh\n",
      "Audi\n",
      "sky blue\n",
      "The price of audi is 60 lakh\n"
     ]
    }
   ],
   "source": [
    "from abc import ABC, abstractmethod\n",
    "\n",
    "class Car(ABC):\n",
    "    def CarName(self):\n",
    "        pass\n",
    "    def colour(self):\n",
    "        pass\n",
    "    @abstractmethod\n",
    "    def price(self):\n",
    "        pass\n",
    "\n",
    "class Lemborgini(Car):\n",
    "    def CarName(self):\n",
    "        print(\"Lemborgini\")\n",
    "    def colour(self):\n",
    "        print(\"Green\")\n",
    "    def price(self):\n",
    "        print(\"The price of Lemborgini is 50 lakh\")\n",
    "\n",
    "class Swift(Car):\n",
    "    def CarName(self):\n",
    "        print(\"Swift Dezire\")\n",
    "    def colour(self):\n",
    "        print(\"Blue\")\n",
    "    def price(self):\n",
    "        print(\"The price of Swift Dezire is 8 lakh\")\n",
    "\n",
    "class Ferrari(Car):\n",
    "    def CarName(self):\n",
    "        print(\"Ferrari\")\n",
    "    def colour(self):\n",
    "        print(\"Red\")\n",
    "    def price(self):\n",
    "        print(\"The price of ferrari is 80 lakh\")\n",
    "\n",
    "class Audi(Car):\n",
    "    def CarName(self):\n",
    "        print(\"Audi\")\n",
    "    def colour(self):\n",
    "        print(\"sky blue\")\n",
    "    def price(self):\n",
    "        print(\"The price of audi is 60 lakh\")\n",
    "\n",
    "# Driver code\n",
    "R = Lemborgini()\n",
    "R.CarName()\n",
    "R.colour()\n",
    "R.price()\n",
    "\n",
    "K = Swift()\n",
    "K.CarName()\n",
    "K.colour()\n",
    "K.price()\n",
    "\n",
    "S = Ferrari()\n",
    "S.CarName()\n",
    "S.colour()\n",
    "S.price()\n",
    "\n",
    "T = Audi()\n",
    "T.CarName()\n",
    "T.colour()\n",
    "T.price()"
   ]
  },
  {
   "cell_type": "markdown",
   "id": "d1963f2d",
   "metadata": {},
   "source": [
    "Lemborgini\n",
    "Green\n",
    "The price of Lemborgini is 50 lakh\n",
    "Swift Dezire\n",
    "Blue\n",
    "The price of Swift Dezire is 8 lakh\n",
    "Ferrari\n",
    "Red\n",
    "The price of ferrari is 80 lakh\n",
    "Audi\n",
    "sky blue\n",
    "The price of audi is 60 lakh\n",
    "\n",
    "Multiple Inheritance :When a class is derived from more than one base class it is called\n",
    "multiple Inheritance. The derived class inherits all the features of the base case."
   ]
  },
  {
   "cell_type": "code",
   "execution_count": null,
   "id": "cd73ac61",
   "metadata": {},
   "outputs": [],
   "source": [
    "class Class1:\n",
    "    def m(self):\n",
    "        print(\"In Class1\")\n",
    "class Class2(Class1):\n",
    "    def m(self):\n",
    "        print(\"In Class2\")\n",
    "\n",
    "class Class3(Class1):\n",
    "    def m(self):\n",
    "        print(\"In Class3\")\n",
    "\n",
    "class Class4(Class2, Class3):\n",
    "    pass\n",
    "\n",
    "obj = Class4()\n",
    "obj.m()"
   ]
  },
  {
   "cell_type": "markdown",
   "id": "2a5a8fda",
   "metadata": {},
   "source": [
    "In Class2\n",
    "\n",
    "Decorators : Decorators are a very powerful and useful tool in Python since it allows programmers\n",
    "             to modify the behaviour of function or class. Decorators allow us to wrap another function \n",
    "             in order to extend the behaviour of the wrapped function, without permanently modifying it."
   ]
  },
  {
   "cell_type": "code",
   "execution_count": null,
   "id": "f09f4d7a",
   "metadata": {},
   "outputs": [],
   "source": [
    "def main_welcome(func):\n",
    "    def sub_welcome_class():\n",
    "        print(\"this wil print before the function\")\n",
    "        func()\n",
    "        print(\"this will print after the function\")\n",
    "    return sub_welcome_class()"
   ]
  },
  {
   "cell_type": "code",
   "execution_count": null,
   "id": "28d8c132",
   "metadata": {},
   "outputs": [],
   "source": [
    "@main_welcome\n",
    "def welcome():\n",
    "    print(\"this function show implementation of decorators\")"
   ]
  },
  {
   "cell_type": "markdown",
   "id": "5ccf3629",
   "metadata": {},
   "source": [
    "this wil print before the function\n",
    "\n",
    "this function show implementation of decorators\n",
    "\n",
    "this will print after the function"
   ]
  }
 ],
 "metadata": {
  "kernelspec": {
   "display_name": "Python 3 (ipykernel)",
   "language": "python",
   "name": "python3"
  },
  "language_info": {
   "codemirror_mode": {
    "name": "ipython",
    "version": 3
   },
   "file_extension": ".py",
   "mimetype": "text/x-python",
   "name": "python",
   "nbconvert_exporter": "python",
   "pygments_lexer": "ipython3",
   "version": "3.9.7"
  }
 },
 "nbformat": 4,
 "nbformat_minor": 5
}
